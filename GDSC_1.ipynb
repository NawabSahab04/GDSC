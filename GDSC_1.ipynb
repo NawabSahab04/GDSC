{
 "cells": [
  {
   "cell_type": "code",
   "execution_count": 1,
   "metadata": {},
   "outputs": [
    {
     "name": "stdout",
     "output_type": "stream",
     "text": [
      "YES\n"
     ]
    }
   ],
   "source": [
    "string1 = input()\n",
    "string2 = input()\n",
    "list1 = []\n",
    "for i in string1:\n",
    "    list1.append(i)\n",
    "    \n",
    "    control = 1\n",
    "    \n",
    "for i in string2:\n",
    "    if i in list1:\n",
    "        continue\n",
    "    else:\n",
    "        control = 0\n",
    "        \n",
    "if control == 1:\n",
    "    print(\"YES\")\n",
    "else:\n",
    "    print(\"NO\")"
   ]
  },
  {
   "cell_type": "code",
   "execution_count": 31,
   "metadata": {},
   "outputs": [
    {
     "name": "stdout",
     "output_type": "stream",
     "text": [
      "1 \n",
      "2 3 \n",
      "4 5 1 \n",
      "2 3 4 5 \n",
      "1 2 3 4 5 \n"
     ]
    }
   ],
   "source": [
    "n = int(input())\n",
    "nums = 0\n",
    "for i in range(1,n+1):\n",
    "    for j in range(1,i+1):\n",
    "        nums+=1\n",
    "        if nums%(n+1) == 0:\n",
    "            nums += 1\n",
    "        print(nums%(n+1), end = \" \")\n",
    "    print()\n",
    "        \n",
    "    "
   ]
  },
  {
   "cell_type": "code",
   "execution_count": 3,
   "metadata": {},
   "outputs": [
    {
     "name": "stdout",
     "output_type": "stream",
     "text": [
      "157\n"
     ]
    }
   ],
   "source": [
    "# Input the size of the square matrices\n",
    "n = int(input())\n",
    "\n",
    "# Input the elements of the first matrix\n",
    "matrix1 = []\n",
    "for i in range(n):\n",
    "    row = list(map(int, input().split()))\n",
    "    matrix1.append(row)\n",
    "\n",
    "# Input the elements of the second matrix\n",
    "matrix2 = []\n",
    "for i in range(n):\n",
    "    row = list(map(int, input().split()))\n",
    "    matrix2.append(row)\n",
    "    \n",
    "def trace(matrix1, matrix2):\n",
    "    trace = 0\n",
    "    for i in range(n):\n",
    "        #trace += matrix1[1][]*matrix2[][1]\n",
    "        for j in range(n):\n",
    "            trace += (matrix1[i][j]*matrix2[j][i])\n",
    "    return trace\n",
    "\n",
    "ans = trace(matrix1, matrix2)\n",
    "\n",
    "print(ans)"
   ]
  },
  {
   "cell_type": "code",
   "execution_count": 48,
   "metadata": {},
   "outputs": [
    {
     "name": "stdout",
     "output_type": "stream",
     "text": [
      "3\n",
      "0\n",
      "3\n"
     ]
    }
   ],
   "source": [
    "t = int(input())\n",
    "mystring = []\n",
    "result = []\n",
    "for i in range(t):\n",
    "    mystring.append(str(input()))\n",
    "    \n",
    "    \n",
    "for i in range(t):\n",
    "    string1 = mystring[i]\n",
    "    n = len(string1)\n",
    "    ls = list(string1)\n",
    "\n",
    "    for i in range(n):\n",
    "        if len(string1)>0:\n",
    "            if string1[0]!=string1[-1]:\n",
    "                string1 = string1[1:-1]\n",
    "    result.append(string1)\n",
    "for i in result:\n",
    "    print(len(i))"
   ]
  },
  {
   "cell_type": "code",
   "execution_count": 49,
   "metadata": {},
   "outputs": [
    {
     "name": "stdout",
     "output_type": "stream",
     "text": [
      "\n",
      "Choose an option:\n",
      "1. Push an element\n",
      "2. Pop an element\n",
      "3. Print all remaining elements\n",
      "4. Exit\n",
      "Pushed 2.0000 onto the stack.\n",
      "\n",
      "Choose an option:\n",
      "1. Push an element\n",
      "2. Pop an element\n",
      "3. Print all remaining elements\n",
      "4. Exit\n",
      "Pushed 2.0000 onto the stack.\n",
      "\n",
      "Choose an option:\n",
      "1. Push an element\n",
      "2. Pop an element\n",
      "3. Print all remaining elements\n",
      "4. Exit\n",
      "Pushed 2.0000 onto the stack.\n",
      "\n",
      "Choose an option:\n",
      "1. Push an element\n",
      "2. Pop an element\n",
      "3. Print all remaining elements\n",
      "4. Exit\n",
      "Pushed 2.0000 onto the stack.\n",
      "\n",
      "Choose an option:\n",
      "1. Push an element\n",
      "2. Pop an element\n",
      "3. Print all remaining elements\n",
      "4. Exit\n",
      "Pushed 2.0000 onto the stack.\n",
      "\n",
      "Choose an option:\n",
      "1. Push an element\n",
      "2. Pop an element\n",
      "3. Print all remaining elements\n",
      "4. Exit\n",
      "Exiting the program.\n"
     ]
    }
   ],
   "source": [
    "class FloatStack:\n",
    "    def __init__(self):\n",
    "        self.stack = []\n",
    "\n",
    "    def push(self, value):\n",
    "        self.stack.append(value)\n",
    "\n",
    "    def pop(self):\n",
    "        if not self.is_empty():\n",
    "            return self.stack.pop()\n",
    "        else:\n",
    "            print(\"Empty\")\n",
    "            return None\n",
    "\n",
    "    def print_stack(self):\n",
    "        if not self.is_empty():\n",
    "            print(\"Stack elements:\")\n",
    "            for element in self.stack:\n",
    "                print(f\"{element:.4f}\")\n",
    "        else:\n",
    "            print(\"Stack is empty.\")\n",
    "\n",
    "    def is_empty(self):\n",
    "        return len(self.stack) == 0\n",
    "\n",
    "# Create an instance of the FloatStack class\n",
    "stack = FloatStack()\n",
    "\n",
    "while True:\n",
    "    print(\"\\nChoose an option:\")\n",
    "    print(\"1. Push an element\")\n",
    "    print(\"2. Pop an element\")\n",
    "    print(\"3. Print all remaining elements\")\n",
    "    print(\"4. Exit\")\n",
    "\n",
    "    choice = input()\n",
    "\n",
    "    if choice == '1':\n",
    "        element = float(input(\"Enter the element to push: \"))\n",
    "        stack.push(element)\n",
    "        print(f\"Pushed {element:.4f} onto the stack.\")\n",
    "    elif choice == '2':\n",
    "        popped_element = stack.pop()\n",
    "        if popped_element is not None:\n",
    "            print(f\"Popped {popped_element:.4f} from the stack.\")\n",
    "    elif choice == '3':\n",
    "        stack.print_stack()\n",
    "    elif choice == '4':\n",
    "        print(\"Exiting the program.\")\n",
    "        break\n",
    "    else:\n",
    "        print(\"Invalid choice. Please enter a valid option.\")\n"
   ]
  }
 ],
 "metadata": {
  "kernelspec": {
   "display_name": "Python 3",
   "language": "python",
   "name": "python3"
  },
  "language_info": {
   "codemirror_mode": {
    "name": "ipython",
    "version": 3
   },
   "file_extension": ".py",
   "mimetype": "text/x-python",
   "name": "python",
   "nbconvert_exporter": "python",
   "pygments_lexer": "ipython3",
   "version": "3.11.4"
  },
  "orig_nbformat": 4
 },
 "nbformat": 4,
 "nbformat_minor": 2
}
